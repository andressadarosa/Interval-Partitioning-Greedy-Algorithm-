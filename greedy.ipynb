{
 "cells": [
  {
   "cell_type": "code",
   "execution_count": 2,
   "metadata": {},
   "outputs": [
    {
     "name": "stdout",
     "output_type": "stream",
     "text": [
      "[['R1', 0, 2], ['R3', 2, 5], ['R5', 7, 9], ['R8', 13, 14]]\n",
      "[]\n"
     ]
    }
   ],
   "source": [
    "# lista com os requests\n",
    "requests = [ ['R1', 0, 2],\n",
    "            ['R2', 0, 3],\n",
    "            ['R3', 2, 5],\n",
    "            ['R4', 4, 6],\n",
    "            ['R5', 7, 9],\n",
    "            ['R6', 0, 10],\n",
    "            ['R7', 8, 11],\n",
    "            ['R8', 13, 14],\n",
    "            ['R9', 12, 15] ]\n",
    "\n",
    "# lista que contera a solucao otima\n",
    "A = []\n",
    "\n",
    "# ordena pelos valores do fim\n",
    "requests.sort(key=lambda x: x[2])\n",
    "\n",
    "while len(requests):\n",
    "    # adiciona o elemento que termina primeiro na lista A\n",
    "    A.append(requests[0])\n",
    "    requests.remove(requests[0])\n",
    "    # exclui do request todos os que tem conflito \n",
    "    to_remove = []\n",
    "    for request in requests:\n",
    "        if request[1] < A[-1][2]:\n",
    "            to_remove.append(request)\n",
    "    requests = [r for r in requests if r not in to_remove]\n",
    "\n",
    "print(A)\n",
    "print(requests)"
   ]
  }
 ],
 "metadata": {
  "kernelspec": {
   "display_name": "base",
   "language": "python",
   "name": "python3"
  },
  "language_info": {
   "codemirror_mode": {
    "name": "ipython",
    "version": 3
   },
   "file_extension": ".py",
   "mimetype": "text/x-python",
   "name": "python",
   "nbconvert_exporter": "python",
   "pygments_lexer": "ipython3",
   "version": "3.9.13"
  },
  "orig_nbformat": 4
 },
 "nbformat": 4,
 "nbformat_minor": 2
}
