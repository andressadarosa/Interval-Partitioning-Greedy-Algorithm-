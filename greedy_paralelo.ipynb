{
 "cells": [
  {
   "attachments": {},
   "cell_type": "markdown",
   "metadata": {},
   "source": [
    "- ordena pelo tempo de inicio da requisição\n",
    "- pego a requisição que começa primeiro e coloco na lista ótima e crio um recurso pra ela \n",
    "- para a próxima requisição verifico se ela começa quando/depois que acaba a última requisição (ordenar a lista pelas requisições que acabam primeiro)\n",
    "-    - se sim, adiciono ela na lista ótima\n",
    "-    - se não, crio um novo recurso pra ela "
   ]
  },
  {
   "cell_type": "code",
   "execution_count": 37,
   "metadata": {},
   "outputs": [
    {
     "name": "stdout",
     "output_type": "stream",
     "text": [
      "3\n",
      "[['R1', 0, 2], ['R2', 0, 3], ['R6', 0, 10], ['R3', 2, 5], ['R4', 4, 6], ['R5', 7, 9], ['R7', 8, 11], ['R9', 12, 15], ['R8', 13, 14]]\n"
     ]
    }
   ],
   "source": [
    "requests = [ ['R1', 0, 2],\n",
    "            ['R2', 0, 3],\n",
    "            ['R3', 2, 5],\n",
    "            ['R4', 4, 6],\n",
    "            ['R5', 7, 9],\n",
    "            ['R6', 0, 10],\n",
    "            ['R7', 8, 11],\n",
    "            ['R8', 13, 14],\n",
    "            ['R9', 12, 15] ]\n",
    "\n",
    "# ordena pelo tempo de inicio\n",
    "requests.sort(key=lambda x: x[1])\n",
    "\n",
    "\n",
    "# lista de recursos pra alocar os recursos, é uma fila prioritária, dando prioridade pra quem acaba primeiro\n",
    "escalonamento = []\n",
    "escalonamento.append(requests[0])\n",
    "requests.remove(requests[0])\n",
    "numero_recursos = 1\n",
    "\n",
    "while (len(requests)):\n",
    "    escalonamento.sort(key=lambda x: x[2]) # desta forma, a requisicição que termina primeiro sempre sera escalonamento[0]\n",
    "    to_remove = []\n",
    "    for request in requests:\n",
    "        if request[1] >= escalonamento[0][2]: # se o inicio do request for compativel com o fim do item que ta no escalonamento\n",
    "            # então posso usar o mesmo recurso\n",
    "            escalonamento.append(request)\n",
    "        else:\n",
    "            numero_recursos += 1\n",
    "            escalonamento.append(requests[0])\n",
    "        to_remove.append(request)\n",
    "        requests = [r for r in requests if r not in to_remove]\n",
    "        \n",
    "\n",
    "print(numero_recursos)\n",
    "print(escalonamento)\n"
   ]
  },
  {
   "cell_type": "code",
   "execution_count": 35,
   "metadata": {},
   "outputs": [
    {
     "name": "stdout",
     "output_type": "stream",
     "text": [
      "3\n",
      "[['R1', 10, 11], ['R2', 10, 12], ['R3', 10, 13], ['R4', 11, 13], ['R5', 12, 14], ['R6', 13, 15], ['R7', 13, 15], ['R8', 15, 16], ['R9', 15, 17], ['R10', 15, 17]]\n"
     ]
    }
   ],
   "source": [
    "ex_youtube = [ ['R1', 10, 11],\n",
    "                ['R2', 10, 12],\n",
    "                ['R3', 10, 13],\n",
    "                ['R4', 11, 13],\n",
    "                ['R5', 12, 14],\n",
    "                ['R6', 13, 15],\n",
    "                ['R7', 13, 15],\n",
    "                ['R8', 15, 16],\n",
    "                ['R9', 15, 17],\n",
    "                ['R10', 15, 17]]\n",
    "\n",
    "ex_youtube.sort(key=lambda x: x[1])\n",
    "\n",
    "# lista de recursos pra alocar os recursos, é uma fila prioritária, dando prioridade pra quem acaba primeiro\n",
    "escalonamento = []\n",
    "escalonamento.append(ex_youtube[0])\n",
    "ex_youtube.remove(ex_youtube[0])\n",
    "numero_recursos = 1\n",
    "\n",
    "while (len(ex_youtube)):\n",
    "    escalonamento.sort(key=lambda x: x[2]) # desta forma, a requisicição que termina primeiro sempre sera escalonamento[0]\n",
    "    to_remove = []\n",
    "    for request in ex_youtube:\n",
    "        if request[1] >= escalonamento[0][2]: # se o inicio do request for compativel com o fim do item que ta no escalonamento\n",
    "            # então posso usar o mesmo recurso\n",
    "            escalonamento.append(request)\n",
    "        else:\n",
    "            numero_recursos += 1\n",
    "            escalonamento.append(ex_youtube[0])\n",
    "        to_remove.append(request)\n",
    "        ex_youtube = [r for r in ex_youtube if r not in to_remove]\n",
    "        \n",
    "\n",
    "print(numero_recursos)\n",
    "print(escalonamento)\n"
   ]
  }
 ],
 "metadata": {
  "kernelspec": {
   "display_name": "base",
   "language": "python",
   "name": "python3"
  },
  "language_info": {
   "codemirror_mode": {
    "name": "ipython",
    "version": 3
   },
   "file_extension": ".py",
   "mimetype": "text/x-python",
   "name": "python",
   "nbconvert_exporter": "python",
   "pygments_lexer": "ipython3",
   "version": "3.9.13"
  },
  "orig_nbformat": 4
 },
 "nbformat": 4,
 "nbformat_minor": 2
}
